{
 "cells": [
  {
   "cell_type": "code",
   "execution_count": 1,
   "metadata": {
    "ExecuteTime": {
     "end_time": "2020-05-22T11:03:32.893448Z",
     "start_time": "2020-05-22T11:03:32.890304Z"
    }
   },
   "outputs": [],
   "source": [
    "import urllib\n",
    "from bs4 import BeautifulSoup\n",
    "import requests\n",
    "import pandas as pd\n",
    "import re\n",
    "import json\n",
    "import getpass"
   ]
  },
  {
   "cell_type": "code",
   "execution_count": 2,
   "metadata": {
    "ExecuteTime": {
     "end_time": "2020-05-22T10:34:19.989491Z",
     "start_time": "2020-05-22T10:34:19.861264Z"
    }
   },
   "outputs": [
    {
     "name": "stdout",
     "output_type": "stream",
     "text": [
      "········\n"
     ]
    }
   ],
   "source": [
    "api_key = getpass.getpass()"
   ]
  },
  {
   "cell_type": "code",
   "execution_count": 3,
   "metadata": {
    "ExecuteTime": {
     "end_time": "2020-05-22T10:47:55.602074Z",
     "start_time": "2020-05-22T10:47:55.554896Z"
    }
   },
   "outputs": [],
   "source": [
    "def get_business(location, term, api_key):\n",
    "    headers = {'Authorization': 'Bearer %s' % api_key}\n",
    "    url = 'https://api.yelp.com/v3/businesses/search'\n",
    "    \n",
    "    data = []\n",
    "    for offset in range(0,1000, 50):\n",
    "        params = {\n",
    "            'limit': 50,\n",
    "            'location': location.replace(' ','+'),\n",
    "            'term': term.replace(' ','+'),\n",
    "            'offset': offset\n",
    "        }\n",
    "        \n",
    "        response = requests.get(url, headers=headers, params=params)\n",
    "        if response.status_code == 200:\n",
    "            data += response.json()['businesses']\n",
    "        elif response.status_code == 400:\n",
    "            print('400 Bad Request')\n",
    "            break\n",
    "            \n",
    "    return data"
   ]
  },
  {
   "cell_type": "code",
   "execution_count": 4,
   "metadata": {
    "ExecuteTime": {
     "end_time": "2020-05-22T11:15:44.627421Z",
     "start_time": "2020-05-22T11:14:29.223744Z"
    }
   },
   "outputs": [
    {
     "data": {
      "text/plain": [
       "(1064, 16)"
      ]
     },
     "execution_count": 4,
     "metadata": {},
     "output_type": "execute_result"
    }
   ],
   "source": [
    "term = 'mall'\n",
    "city = ['MANILA PHILIPPINES', 'QUEZON CITY PHILIPPINES', 'MAKATI CITY PHILIPPINES']\n",
    "\n",
    "df = list()\n",
    "for i in city:\n",
    "    first_fetch = get_business(i, term, api_key)\n",
    "    first_fetch_df = pd.DataFrame(first_fetch)\n",
    "    df.append(first_fetch_df)\n",
    "    \n",
    "df = pd.concat(df)\n",
    "df.shape"
   ]
  },
  {
   "cell_type": "code",
   "execution_count": 5,
   "metadata": {
    "ExecuteTime": {
     "end_time": "2020-05-22T11:16:01.895409Z",
     "start_time": "2020-05-22T11:16:01.823417Z"
    }
   },
   "outputs": [
    {
     "data": {
      "text/html": [
       "<div>\n",
       "<style scoped>\n",
       "    .dataframe tbody tr th:only-of-type {\n",
       "        vertical-align: middle;\n",
       "    }\n",
       "\n",
       "    .dataframe tbody tr th {\n",
       "        vertical-align: top;\n",
       "    }\n",
       "\n",
       "    .dataframe thead th {\n",
       "        text-align: right;\n",
       "    }\n",
       "</style>\n",
       "<table border=\"1\" class=\"dataframe\">\n",
       "  <thead>\n",
       "    <tr style=\"text-align: right;\">\n",
       "      <th></th>\n",
       "      <th>id</th>\n",
       "      <th>alias</th>\n",
       "      <th>name</th>\n",
       "      <th>image_url</th>\n",
       "      <th>is_closed</th>\n",
       "      <th>url</th>\n",
       "      <th>review_count</th>\n",
       "      <th>categories</th>\n",
       "      <th>rating</th>\n",
       "      <th>coordinates</th>\n",
       "      <th>transactions</th>\n",
       "      <th>price</th>\n",
       "      <th>location</th>\n",
       "      <th>phone</th>\n",
       "      <th>display_phone</th>\n",
       "      <th>distance</th>\n",
       "    </tr>\n",
       "  </thead>\n",
       "  <tbody>\n",
       "    <tr>\n",
       "      <th>0</th>\n",
       "      <td>z9BEfWMGGD_-MmsMTEToQA</td>\n",
       "      <td>sm-mall-of-asia-pasay-2</td>\n",
       "      <td>SM Mall of Asia</td>\n",
       "      <td>https://s3-media1.fl.yelpcdn.com/bphoto/D0PeRj...</td>\n",
       "      <td>False</td>\n",
       "      <td>https://www.yelp.com/biz/sm-mall-of-asia-pasay...</td>\n",
       "      <td>75</td>\n",
       "      <td>[{'alias': 'shoppingcenters', 'title': 'Shoppi...</td>\n",
       "      <td>4.0</td>\n",
       "      <td>{'latitude': 14.535068, 'longitude': 120.982115}</td>\n",
       "      <td>[]</td>\n",
       "      <td>₱₱</td>\n",
       "      <td>{'address1': 'SM Central Business Park I', 'ad...</td>\n",
       "      <td>+6325560680</td>\n",
       "      <td>+63 25560680</td>\n",
       "      <td>5746.885907</td>\n",
       "    </tr>\n",
       "    <tr>\n",
       "      <th>1</th>\n",
       "      <td>c_rDMpWVyZnMrS1NZYDetw</td>\n",
       "      <td>greenbelt-makati-2</td>\n",
       "      <td>Greenbelt</td>\n",
       "      <td>https://s3-media4.fl.yelpcdn.com/bphoto/GkcmGP...</td>\n",
       "      <td>False</td>\n",
       "      <td>https://www.yelp.com/biz/greenbelt-makati-2?ad...</td>\n",
       "      <td>17</td>\n",
       "      <td>[{'alias': 'shoppingcenters', 'title': 'Shoppi...</td>\n",
       "      <td>4.5</td>\n",
       "      <td>{'latitude': 14.5527944209809, 'longitude': 12...</td>\n",
       "      <td>[]</td>\n",
       "      <td>₱₱₱</td>\n",
       "      <td>{'address1': 'Greenbelt Park Walkway', 'addres...</td>\n",
       "      <td>+6328175015</td>\n",
       "      <td>+63 28175015</td>\n",
       "      <td>4877.737931</td>\n",
       "    </tr>\n",
       "    <tr>\n",
       "      <th>2</th>\n",
       "      <td>kraWe21SaBZSR0f8CmX_ww</td>\n",
       "      <td>greenhills-shopping-center-san-juan</td>\n",
       "      <td>Greenhills Shopping Center</td>\n",
       "      <td>https://s3-media3.fl.yelpcdn.com/bphoto/oa37dV...</td>\n",
       "      <td>False</td>\n",
       "      <td>https://www.yelp.com/biz/greenhills-shopping-c...</td>\n",
       "      <td>56</td>\n",
       "      <td>[{'alias': 'shoppingcenters', 'title': 'Shoppi...</td>\n",
       "      <td>4.0</td>\n",
       "      <td>{'latitude': 14.601546, 'longitude': 121.049895}</td>\n",
       "      <td>[]</td>\n",
       "      <td>₱</td>\n",
       "      <td>{'address1': 'Ortigas Avenue', 'address2': Non...</td>\n",
       "      <td>+6327210572</td>\n",
       "      <td>+63 27210572</td>\n",
       "      <td>6494.609695</td>\n",
       "    </tr>\n",
       "    <tr>\n",
       "      <th>3</th>\n",
       "      <td>CysjbICv1GdEUY9lMzxSyQ</td>\n",
       "      <td>sm-megamall-mandaluyong-2</td>\n",
       "      <td>SM Megamall</td>\n",
       "      <td>https://s3-media2.fl.yelpcdn.com/bphoto/akk8p2...</td>\n",
       "      <td>False</td>\n",
       "      <td>https://www.yelp.com/biz/sm-megamall-mandaluyo...</td>\n",
       "      <td>37</td>\n",
       "      <td>[{'alias': 'shoppingcenters', 'title': 'Shoppi...</td>\n",
       "      <td>4.5</td>\n",
       "      <td>{'latitude': 14.583428, 'longitude': 121.057124}</td>\n",
       "      <td>[]</td>\n",
       "      <td>₱₱</td>\n",
       "      <td>{'address1': 'EDSA, Ortigas Avenue', 'address2...</td>\n",
       "      <td>+6326331769</td>\n",
       "      <td>+63 26331769</td>\n",
       "      <td>7040.930975</td>\n",
       "    </tr>\n",
       "    <tr>\n",
       "      <th>4</th>\n",
       "      <td>_hkrD6aQ-4WCLbNGp3ltSA</td>\n",
       "      <td>robinsons-place-manila-manila</td>\n",
       "      <td>Robinsons Place Manila</td>\n",
       "      <td>https://s3-media4.fl.yelpcdn.com/bphoto/UghZyb...</td>\n",
       "      <td>False</td>\n",
       "      <td>https://www.yelp.com/biz/robinsons-place-manil...</td>\n",
       "      <td>8</td>\n",
       "      <td>[{'alias': 'shoppingcenters', 'title': 'Shoppi...</td>\n",
       "      <td>4.0</td>\n",
       "      <td>{'latitude': 14.576108, 'longitude': 120.983935}</td>\n",
       "      <td>[]</td>\n",
       "      <td>₱₱</td>\n",
       "      <td>{'address1': 'Pedro Gil Street', 'address2': N...</td>\n",
       "      <td>+6323020109</td>\n",
       "      <td>+63 23020109</td>\n",
       "      <td>1375.784246</td>\n",
       "    </tr>\n",
       "  </tbody>\n",
       "</table>\n",
       "</div>"
      ],
      "text/plain": [
       "                       id                                alias   \n",
       "0  z9BEfWMGGD_-MmsMTEToQA              sm-mall-of-asia-pasay-2  \\\n",
       "1  c_rDMpWVyZnMrS1NZYDetw                   greenbelt-makati-2   \n",
       "2  kraWe21SaBZSR0f8CmX_ww  greenhills-shopping-center-san-juan   \n",
       "3  CysjbICv1GdEUY9lMzxSyQ            sm-megamall-mandaluyong-2   \n",
       "4  _hkrD6aQ-4WCLbNGp3ltSA        robinsons-place-manila-manila   \n",
       "\n",
       "                         name   \n",
       "0             SM Mall of Asia  \\\n",
       "1                   Greenbelt   \n",
       "2  Greenhills Shopping Center   \n",
       "3                 SM Megamall   \n",
       "4      Robinsons Place Manila   \n",
       "\n",
       "                                           image_url  is_closed   \n",
       "0  https://s3-media1.fl.yelpcdn.com/bphoto/D0PeRj...      False  \\\n",
       "1  https://s3-media4.fl.yelpcdn.com/bphoto/GkcmGP...      False   \n",
       "2  https://s3-media3.fl.yelpcdn.com/bphoto/oa37dV...      False   \n",
       "3  https://s3-media2.fl.yelpcdn.com/bphoto/akk8p2...      False   \n",
       "4  https://s3-media4.fl.yelpcdn.com/bphoto/UghZyb...      False   \n",
       "\n",
       "                                                 url  review_count   \n",
       "0  https://www.yelp.com/biz/sm-mall-of-asia-pasay...            75  \\\n",
       "1  https://www.yelp.com/biz/greenbelt-makati-2?ad...            17   \n",
       "2  https://www.yelp.com/biz/greenhills-shopping-c...            56   \n",
       "3  https://www.yelp.com/biz/sm-megamall-mandaluyo...            37   \n",
       "4  https://www.yelp.com/biz/robinsons-place-manil...             8   \n",
       "\n",
       "                                          categories  rating   \n",
       "0  [{'alias': 'shoppingcenters', 'title': 'Shoppi...     4.0  \\\n",
       "1  [{'alias': 'shoppingcenters', 'title': 'Shoppi...     4.5   \n",
       "2  [{'alias': 'shoppingcenters', 'title': 'Shoppi...     4.0   \n",
       "3  [{'alias': 'shoppingcenters', 'title': 'Shoppi...     4.5   \n",
       "4  [{'alias': 'shoppingcenters', 'title': 'Shoppi...     4.0   \n",
       "\n",
       "                                         coordinates transactions price   \n",
       "0   {'latitude': 14.535068, 'longitude': 120.982115}           []    ₱₱  \\\n",
       "1  {'latitude': 14.5527944209809, 'longitude': 12...           []   ₱₱₱   \n",
       "2   {'latitude': 14.601546, 'longitude': 121.049895}           []     ₱   \n",
       "3   {'latitude': 14.583428, 'longitude': 121.057124}           []    ₱₱   \n",
       "4   {'latitude': 14.576108, 'longitude': 120.983935}           []    ₱₱   \n",
       "\n",
       "                                            location        phone   \n",
       "0  {'address1': 'SM Central Business Park I', 'ad...  +6325560680  \\\n",
       "1  {'address1': 'Greenbelt Park Walkway', 'addres...  +6328175015   \n",
       "2  {'address1': 'Ortigas Avenue', 'address2': Non...  +6327210572   \n",
       "3  {'address1': 'EDSA, Ortigas Avenue', 'address2...  +6326331769   \n",
       "4  {'address1': 'Pedro Gil Street', 'address2': N...  +6323020109   \n",
       "\n",
       "  display_phone     distance  \n",
       "0  +63 25560680  5746.885907  \n",
       "1  +63 28175015  4877.737931  \n",
       "2  +63 27210572  6494.609695  \n",
       "3  +63 26331769  7040.930975  \n",
       "4  +63 23020109  1375.784246  "
      ]
     },
     "execution_count": 5,
     "metadata": {},
     "output_type": "execute_result"
    }
   ],
   "source": [
    "df.head()"
   ]
  },
  {
   "cell_type": "code",
   "execution_count": null,
   "metadata": {},
   "outputs": [],
   "source": []
  }
 ],
 "metadata": {
  "kernelspec": {
   "display_name": "Python 3 (ipykernel)",
   "language": "python",
   "name": "python3"
  },
  "language_info": {
   "codemirror_mode": {
    "name": "ipython",
    "version": 3
   },
   "file_extension": ".py",
   "mimetype": "text/x-python",
   "name": "python",
   "nbconvert_exporter": "python",
   "pygments_lexer": "ipython3",
   "version": "3.10.10"
  },
  "toc": {
   "base_numbering": 1,
   "nav_menu": {},
   "number_sections": true,
   "sideBar": true,
   "skip_h1_title": false,
   "title_cell": "Table of Contents",
   "title_sidebar": "Contents",
   "toc_cell": false,
   "toc_position": {},
   "toc_section_display": true,
   "toc_window_display": false
  }
 },
 "nbformat": 4,
 "nbformat_minor": 4
}
