{
 "cells": [
  {
   "cell_type": "code",
   "execution_count": 1,
   "metadata": {
    "ExecuteTime": {
     "end_time": "2020-05-20T10:35:07.625962Z",
     "start_time": "2020-05-20T10:35:04.715175Z"
    }
   },
   "outputs": [],
   "source": [
    "import pandas as pd\n",
    "import numpy as np\n",
    "\n",
    "from bs4 import BeautifulSoup\n",
    "import requests"
   ]
  },
  {
   "cell_type": "code",
   "execution_count": 2,
   "metadata": {
    "ExecuteTime": {
     "end_time": "2020-05-20T10:56:13.253750Z",
     "start_time": "2020-05-20T10:56:12.260881Z"
    }
   },
   "outputs": [],
   "source": [
    "headers = {'User-Agent': 'Mozilla/5.0 (X11; Linux x86_64)'}\n",
    "page = requests.get(\"http://forecast.weather.gov/MapClick.php?lat=37.7772&lon=-122.4168\", headers)\n",
    "soup = BeautifulSoup(page.content, 'html.parser')"
   ]
  },
  {
   "cell_type": "code",
   "execution_count": 3,
   "metadata": {
    "ExecuteTime": {
     "end_time": "2020-05-20T10:56:17.409532Z",
     "start_time": "2020-05-20T10:56:17.343170Z"
    },
    "scrolled": true
   },
   "outputs": [
    {
     "data": {
      "text/plain": [
       "<div class=\"panel panel-default\" id=\"seven-day-forecast\">\n",
       "<div class=\"panel-heading\">\n",
       "<b>Extended Forecast for</b>\n",
       "<h2 class=\"panel-title\">\n",
       "                San Francisco CA    </h2>\n",
       "</div>\n",
       "<div class=\"panel-body\" id=\"seven-day-forecast-body\">\n",
       "<div id=\"seven-day-forecast-container\"><ul class=\"list-unstyled\" id=\"seven-day-forecast-list\"><li class=\"forecast-tombstone\">\n",
       "<div class=\"tombstone-container\">\n",
       "<p class=\"period-name\">Overnight<br/><br/></p>\n",
       "<p><img alt=\"Overnight: Mostly cloudy, with a low around 50. West wind around 5 mph becoming light and variable. \" class=\"forecast-icon\" src=\"newimages/medium/nbkn.png\" title=\"Overnight: Mostly cloudy, with a low around 50. West wind around 5 mph becoming light and variable. \"/></p><p class=\"short-desc\">Mostly Cloudy</p><p class=\"temp temp-low\">Low: 50 °F</p></div></li><li class=\"forecast-tombstone\">\n",
       "<div class=\"tombstone-container\">\n",
       "<p class=\"period-name\">Friday<br/><br/></p>\n",
       "<p><img alt=\"Friday: Sunny, with a high near 67. Calm wind becoming west northwest 5 to 7 mph in the afternoon. \" class=\"forecast-icon\" src=\"newimages/medium/few.png\" title=\"Friday: Sunny, with a high near 67. Calm wind becoming west northwest 5 to 7 mph in the afternoon. \"/></p><p class=\"short-desc\">Sunny</p><p class=\"temp temp-high\">High: 67 °F</p></div></li><li class=\"forecast-tombstone\">\n",
       "<div class=\"tombstone-container\">\n",
       "<p class=\"period-name\">Friday<br/>Night</p>\n",
       "<p><img alt=\"Friday Night: Mostly clear, with a low around 51. West northwest wind around 6 mph. \" class=\"forecast-icon\" src=\"newimages/medium/nfew.png\" title=\"Friday Night: Mostly clear, with a low around 51. West northwest wind around 6 mph. \"/></p><p class=\"short-desc\">Mostly Clear</p><p class=\"temp temp-low\">Low: 51 °F</p></div></li><li class=\"forecast-tombstone\">\n",
       "<div class=\"tombstone-container\">\n",
       "<p class=\"period-name\">Veterans<br/>Day</p>\n",
       "<p><img alt=\"Veterans Day: Mostly sunny, with a high near 68. North northwest wind 3 to 6 mph. \" class=\"forecast-icon\" src=\"newimages/medium/sct.png\" title=\"Veterans Day: Mostly sunny, with a high near 68. North northwest wind 3 to 6 mph. \"/></p><p class=\"short-desc\">Mostly Sunny</p><p class=\"temp temp-high\">High: 68 °F</p></div></li><li class=\"forecast-tombstone\">\n",
       "<div class=\"tombstone-container\">\n",
       "<p class=\"period-name\">Saturday<br/>Night</p>\n",
       "<p><img alt=\"Saturday Night: Partly cloudy, with a low around 50. Northwest wind around 6 mph becoming light and variable  in the evening. \" class=\"forecast-icon\" src=\"newimages/medium/nsct.png\" title=\"Saturday Night: Partly cloudy, with a low around 50. Northwest wind around 6 mph becoming light and variable  in the evening. \"/></p><p class=\"short-desc\">Partly Cloudy</p><p class=\"temp temp-low\">Low: 50 °F</p></div></li><li class=\"forecast-tombstone\">\n",
       "<div class=\"tombstone-container\">\n",
       "<p class=\"period-name\">Sunday<br/><br/></p>\n",
       "<p><img alt=\"Sunday: Mostly sunny, with a high near 68.\" class=\"forecast-icon\" src=\"newimages/medium/sct.png\" title=\"Sunday: Mostly sunny, with a high near 68.\"/></p><p class=\"short-desc\">Mostly Sunny</p><p class=\"temp temp-high\">High: 68 °F</p></div></li><li class=\"forecast-tombstone\">\n",
       "<div class=\"tombstone-container\">\n",
       "<p class=\"period-name\">Sunday<br/>Night</p>\n",
       "<p><img alt=\"Sunday Night: Partly cloudy, with a low around 52.\" class=\"forecast-icon\" src=\"newimages/medium/nsct.png\" title=\"Sunday Night: Partly cloudy, with a low around 52.\"/></p><p class=\"short-desc\">Partly Cloudy</p><p class=\"temp temp-low\">Low: 52 °F</p></div></li><li class=\"forecast-tombstone\">\n",
       "<div class=\"tombstone-container\">\n",
       "<p class=\"period-name\">Monday<br/><br/></p>\n",
       "<p><img alt=\"Monday: A slight chance of rain after 10am.  Partly sunny, with a high near 66.\" class=\"forecast-icon\" src=\"newimages/medium/ra.png\" title=\"Monday: A slight chance of rain after 10am.  Partly sunny, with a high near 66.\"/></p><p class=\"short-desc\">Slight Chance<br/>Rain</p><p class=\"temp temp-high\">High: 66 °F</p></div></li><li class=\"forecast-tombstone\">\n",
       "<div class=\"tombstone-container\">\n",
       "<p class=\"period-name\">Monday<br/>Night</p>\n",
       "<p><img alt=\"Monday Night: A chance of rain.  Mostly cloudy, with a low around 53.\" class=\"forecast-icon\" src=\"newimages/medium/nra.png\" title=\"Monday Night: A chance of rain.  Mostly cloudy, with a low around 53.\"/></p><p class=\"short-desc\">Chance Rain</p><p class=\"temp temp-low\">Low: 53 °F</p></div></li></ul></div>\n",
       "<script type=\"text/javascript\">\n",
       "// equalize forecast heights\n",
       "$(function () {\n",
       "    var maxh = 0;\n",
       "    $(\".forecast-tombstone .short-desc\").each(function () {\n",
       "        var h = $(this).height();\n",
       "        if (h > maxh) { maxh = h; }\n",
       "    });\n",
       "    $(\".forecast-tombstone .short-desc\").height(maxh);\n",
       "});\n",
       "</script> </div>\n",
       "</div>"
      ]
     },
     "execution_count": 3,
     "metadata": {},
     "output_type": "execute_result"
    }
   ],
   "source": [
    "seven_day = soup.find(id=\"seven-day-forecast\")\n",
    "seven_day"
   ]
  },
  {
   "cell_type": "code",
   "execution_count": 4,
   "metadata": {
    "ExecuteTime": {
     "end_time": "2020-05-20T10:59:17.838184Z",
     "start_time": "2020-05-20T10:59:17.824422Z"
    }
   },
   "outputs": [
    {
     "name": "stdout",
     "output_type": "stream",
     "text": [
      "<div class=\"tombstone-container\">\n",
      " <p class=\"period-name\">\n",
      "  Overnight\n",
      "  <br/>\n",
      "  <br/>\n",
      " </p>\n",
      " <p>\n",
      "  <img alt=\"Overnight: Mostly cloudy, with a low around 50. West wind around 5 mph becoming light and variable. \" class=\"forecast-icon\" src=\"newimages/medium/nbkn.png\" title=\"Overnight: Mostly cloudy, with a low around 50. West wind around 5 mph becoming light and variable. \"/>\n",
      " </p>\n",
      " <p class=\"short-desc\">\n",
      "  Mostly Cloudy\n",
      " </p>\n",
      " <p class=\"temp temp-low\">\n",
      "  Low: 50 °F\n",
      " </p>\n",
      "</div>\n",
      "\n"
     ]
    }
   ],
   "source": [
    "forecast_item = seven_day.find_all(class_ = \"tombstone-container\")\n",
    "overnight = forecast_item[0]\n",
    "print(overnight.prettify())"
   ]
  },
  {
   "cell_type": "code",
   "execution_count": 5,
   "metadata": {
    "ExecuteTime": {
     "end_time": "2020-05-20T11:03:11.715486Z",
     "start_time": "2020-05-20T11:03:11.708448Z"
    }
   },
   "outputs": [
    {
     "name": "stdout",
     "output_type": "stream",
     "text": [
      "Overnight\n",
      "Mostly Cloudy\n",
      "Low: 50 °F\n"
     ]
    }
   ],
   "source": [
    "period = overnight.find(class_=\"period-name\").get_text()\n",
    "short_desc = overnight.find(class_=\"short-desc\").get_text()\n",
    "temp = overnight.find(class_=\"temp\").get_text()\n",
    "\n",
    "print(period)\n",
    "print(short_desc)\n",
    "print(temp)"
   ]
  },
  {
   "cell_type": "code",
   "execution_count": 6,
   "metadata": {
    "ExecuteTime": {
     "end_time": "2020-05-20T11:04:25.822108Z",
     "start_time": "2020-05-20T11:04:25.816679Z"
    }
   },
   "outputs": [
    {
     "data": {
      "text/plain": [
       "'Overnight: Mostly cloudy, with a low around 50. West wind around 5 mph becoming light and variable. '"
      ]
     },
     "execution_count": 6,
     "metadata": {},
     "output_type": "execute_result"
    }
   ],
   "source": [
    "img = overnight.find(\"img\")\n",
    "desc = img[\"title\"]\n",
    "desc"
   ]
  },
  {
   "cell_type": "code",
   "execution_count": 7,
   "metadata": {
    "ExecuteTime": {
     "end_time": "2020-05-20T11:07:26.443857Z",
     "start_time": "2020-05-20T11:07:26.390242Z"
    }
   },
   "outputs": [
    {
     "data": {
      "text/plain": [
       "[<p class=\"period-name\">Overnight<br/><br/></p>,\n",
       " <p class=\"period-name\">Friday<br/><br/></p>,\n",
       " <p class=\"period-name\">Friday<br/>Night</p>,\n",
       " <p class=\"period-name\">Veterans<br/>Day</p>,\n",
       " <p class=\"period-name\">Saturday<br/>Night</p>,\n",
       " <p class=\"period-name\">Sunday<br/><br/></p>,\n",
       " <p class=\"period-name\">Sunday<br/>Night</p>,\n",
       " <p class=\"period-name\">Monday<br/><br/></p>,\n",
       " <p class=\"period-name\">Monday<br/>Night</p>]"
      ]
     },
     "execution_count": 7,
     "metadata": {},
     "output_type": "execute_result"
    }
   ],
   "source": [
    "period_tags = seven_day.select(\".tombstone-container .period-name\")\n",
    "period_tags"
   ]
  },
  {
   "cell_type": "code",
   "execution_count": 8,
   "metadata": {
    "ExecuteTime": {
     "end_time": "2020-05-20T11:07:31.169506Z",
     "start_time": "2020-05-20T11:07:31.161115Z"
    }
   },
   "outputs": [
    {
     "data": {
      "text/plain": [
       "['Overnight',\n",
       " 'Friday',\n",
       " 'FridayNight',\n",
       " 'VeteransDay',\n",
       " 'SaturdayNight',\n",
       " 'Sunday',\n",
       " 'SundayNight',\n",
       " 'Monday',\n",
       " 'MondayNight']"
      ]
     },
     "execution_count": 8,
     "metadata": {},
     "output_type": "execute_result"
    }
   ],
   "source": [
    "periods = [i.get_text() for i in period_tags]\n",
    "periods"
   ]
  },
  {
   "cell_type": "code",
   "execution_count": 9,
   "metadata": {
    "ExecuteTime": {
     "end_time": "2020-05-20T11:11:37.635171Z",
     "start_time": "2020-05-20T11:11:37.599984Z"
    }
   },
   "outputs": [
    {
     "name": "stdout",
     "output_type": "stream",
     "text": [
      "['Mostly Cloudy', 'Sunny', 'Mostly Clear', 'Mostly Sunny', 'Partly Cloudy', 'Mostly Sunny', 'Partly Cloudy', 'Slight ChanceRain', 'Chance Rain']\n",
      "['Low: 50 °F', 'High: 67 °F', 'Low: 51 °F', 'High: 68 °F', 'Low: 50 °F', 'High: 68 °F', 'Low: 52 °F', 'High: 66 °F', 'Low: 53 °F']\n",
      "['Overnight: Mostly cloudy, with a low around 50. West wind around 5 mph becoming light and variable. ', 'Friday: Sunny, with a high near 67. Calm wind becoming west northwest 5 to 7 mph in the afternoon. ', 'Friday Night: Mostly clear, with a low around 51. West northwest wind around 6 mph. ', 'Veterans Day: Mostly sunny, with a high near 68. North northwest wind 3 to 6 mph. ', 'Saturday Night: Partly cloudy, with a low around 50. Northwest wind around 6 mph becoming light and variable  in the evening. ', 'Sunday: Mostly sunny, with a high near 68.', 'Sunday Night: Partly cloudy, with a low around 52.', 'Monday: A slight chance of rain after 10am.  Partly sunny, with a high near 66.', 'Monday Night: A chance of rain.  Mostly cloudy, with a low around 53.']\n"
     ]
    }
   ],
   "source": [
    "short_desc = [sd.get_text() for sd in seven_day.select(\".tombstone-container .short-desc\")]\n",
    "temp = [t.get_text() for t in seven_day.select(\".tombstone-container .temp\")]\n",
    "desc = [d['title'] for d in seven_day.select(\".tombstone-container img\")]\n",
    "\n",
    "print(short_desc)\n",
    "print(temp)\n",
    "print(desc)"
   ]
  },
  {
   "cell_type": "code",
   "execution_count": 10,
   "metadata": {
    "ExecuteTime": {
     "end_time": "2020-05-20T11:13:46.943019Z",
     "start_time": "2020-05-20T11:13:45.901716Z"
    }
   },
   "outputs": [
    {
     "data": {
      "text/html": [
       "<div>\n",
       "<style scoped>\n",
       "    .dataframe tbody tr th:only-of-type {\n",
       "        vertical-align: middle;\n",
       "    }\n",
       "\n",
       "    .dataframe tbody tr th {\n",
       "        vertical-align: top;\n",
       "    }\n",
       "\n",
       "    .dataframe thead th {\n",
       "        text-align: right;\n",
       "    }\n",
       "</style>\n",
       "<table border=\"1\" class=\"dataframe\">\n",
       "  <thead>\n",
       "    <tr style=\"text-align: right;\">\n",
       "      <th></th>\n",
       "      <th>period</th>\n",
       "      <th>short_desc</th>\n",
       "      <th>temp</th>\n",
       "      <th>desc</th>\n",
       "    </tr>\n",
       "  </thead>\n",
       "  <tbody>\n",
       "    <tr>\n",
       "      <th>0</th>\n",
       "      <td>Overnight</td>\n",
       "      <td>Mostly Cloudy</td>\n",
       "      <td>Low: 50 °F</td>\n",
       "      <td>Overnight: Mostly cloudy, with a low around 50...</td>\n",
       "    </tr>\n",
       "    <tr>\n",
       "      <th>1</th>\n",
       "      <td>Friday</td>\n",
       "      <td>Sunny</td>\n",
       "      <td>High: 67 °F</td>\n",
       "      <td>Friday: Sunny, with a high near 67. Calm wind ...</td>\n",
       "    </tr>\n",
       "    <tr>\n",
       "      <th>2</th>\n",
       "      <td>FridayNight</td>\n",
       "      <td>Mostly Clear</td>\n",
       "      <td>Low: 51 °F</td>\n",
       "      <td>Friday Night: Mostly clear, with a low around ...</td>\n",
       "    </tr>\n",
       "    <tr>\n",
       "      <th>3</th>\n",
       "      <td>VeteransDay</td>\n",
       "      <td>Mostly Sunny</td>\n",
       "      <td>High: 68 °F</td>\n",
       "      <td>Veterans Day: Mostly sunny, with a high near 6...</td>\n",
       "    </tr>\n",
       "    <tr>\n",
       "      <th>4</th>\n",
       "      <td>SaturdayNight</td>\n",
       "      <td>Partly Cloudy</td>\n",
       "      <td>Low: 50 °F</td>\n",
       "      <td>Saturday Night: Partly cloudy, with a low arou...</td>\n",
       "    </tr>\n",
       "    <tr>\n",
       "      <th>5</th>\n",
       "      <td>Sunday</td>\n",
       "      <td>Mostly Sunny</td>\n",
       "      <td>High: 68 °F</td>\n",
       "      <td>Sunday: Mostly sunny, with a high near 68.</td>\n",
       "    </tr>\n",
       "    <tr>\n",
       "      <th>6</th>\n",
       "      <td>SundayNight</td>\n",
       "      <td>Partly Cloudy</td>\n",
       "      <td>Low: 52 °F</td>\n",
       "      <td>Sunday Night: Partly cloudy, with a low around...</td>\n",
       "    </tr>\n",
       "    <tr>\n",
       "      <th>7</th>\n",
       "      <td>Monday</td>\n",
       "      <td>Slight ChanceRain</td>\n",
       "      <td>High: 66 °F</td>\n",
       "      <td>Monday: A slight chance of rain after 10am.  P...</td>\n",
       "    </tr>\n",
       "    <tr>\n",
       "      <th>8</th>\n",
       "      <td>MondayNight</td>\n",
       "      <td>Chance Rain</td>\n",
       "      <td>Low: 53 °F</td>\n",
       "      <td>Monday Night: A chance of rain.  Mostly cloudy...</td>\n",
       "    </tr>\n",
       "  </tbody>\n",
       "</table>\n",
       "</div>"
      ],
      "text/plain": [
       "          period         short_desc         temp   \n",
       "0      Overnight      Mostly Cloudy   Low: 50 °F  \\\n",
       "1         Friday              Sunny  High: 67 °F   \n",
       "2    FridayNight       Mostly Clear   Low: 51 °F   \n",
       "3    VeteransDay       Mostly Sunny  High: 68 °F   \n",
       "4  SaturdayNight      Partly Cloudy   Low: 50 °F   \n",
       "5         Sunday       Mostly Sunny  High: 68 °F   \n",
       "6    SundayNight      Partly Cloudy   Low: 52 °F   \n",
       "7         Monday  Slight ChanceRain  High: 66 °F   \n",
       "8    MondayNight        Chance Rain   Low: 53 °F   \n",
       "\n",
       "                                                desc  \n",
       "0  Overnight: Mostly cloudy, with a low around 50...  \n",
       "1  Friday: Sunny, with a high near 67. Calm wind ...  \n",
       "2  Friday Night: Mostly clear, with a low around ...  \n",
       "3  Veterans Day: Mostly sunny, with a high near 6...  \n",
       "4  Saturday Night: Partly cloudy, with a low arou...  \n",
       "5         Sunday: Mostly sunny, with a high near 68.  \n",
       "6  Sunday Night: Partly cloudy, with a low around...  \n",
       "7  Monday: A slight chance of rain after 10am.  P...  \n",
       "8  Monday Night: A chance of rain.  Mostly cloudy...  "
      ]
     },
     "metadata": {},
     "output_type": "display_data"
    }
   ],
   "source": [
    "weather = pd.DataFrame({\n",
    "    \"period\": periods,\n",
    "    \"short_desc\": short_desc,\n",
    "    \"temp\": temp,\n",
    "    \"desc\": desc\n",
    "})\n",
    "\n",
    "display(weather)"
   ]
  },
  {
   "cell_type": "code",
   "execution_count": 11,
   "metadata": {
    "ExecuteTime": {
     "end_time": "2020-05-20T11:14:15.353053Z",
     "start_time": "2020-05-20T11:14:15.331447Z"
    }
   },
   "outputs": [
    {
     "name": "stdout",
     "output_type": "stream",
     "text": [
      "<class 'pandas.core.frame.DataFrame'>\n",
      "RangeIndex: 9 entries, 0 to 8\n",
      "Data columns (total 4 columns):\n",
      " #   Column      Non-Null Count  Dtype \n",
      "---  ------      --------------  ----- \n",
      " 0   period      9 non-null      object\n",
      " 1   short_desc  9 non-null      object\n",
      " 2   temp        9 non-null      object\n",
      " 3   desc        9 non-null      object\n",
      "dtypes: object(4)\n",
      "memory usage: 416.0+ bytes\n"
     ]
    }
   ],
   "source": [
    "weather.info(verbose=True)"
   ]
  },
  {
   "cell_type": "code",
   "execution_count": 12,
   "metadata": {
    "ExecuteTime": {
     "end_time": "2020-05-20T11:17:16.144096Z",
     "start_time": "2020-05-20T11:17:16.132591Z"
    }
   },
   "outputs": [
    {
     "data": {
      "text/html": [
       "<div>\n",
       "<style scoped>\n",
       "    .dataframe tbody tr th:only-of-type {\n",
       "        vertical-align: middle;\n",
       "    }\n",
       "\n",
       "    .dataframe tbody tr th {\n",
       "        vertical-align: top;\n",
       "    }\n",
       "\n",
       "    .dataframe thead th {\n",
       "        text-align: right;\n",
       "    }\n",
       "</style>\n",
       "<table border=\"1\" class=\"dataframe\">\n",
       "  <thead>\n",
       "    <tr style=\"text-align: right;\">\n",
       "      <th></th>\n",
       "      <th>period</th>\n",
       "      <th>short_desc</th>\n",
       "      <th>temp</th>\n",
       "      <th>desc</th>\n",
       "      <th>temp_num</th>\n",
       "    </tr>\n",
       "  </thead>\n",
       "  <tbody>\n",
       "    <tr>\n",
       "      <th>0</th>\n",
       "      <td>Overnight</td>\n",
       "      <td>Mostly Cloudy</td>\n",
       "      <td>Low: 50 °F</td>\n",
       "      <td>Overnight: Mostly cloudy, with a low around 50...</td>\n",
       "      <td>50</td>\n",
       "    </tr>\n",
       "    <tr>\n",
       "      <th>1</th>\n",
       "      <td>Friday</td>\n",
       "      <td>Sunny</td>\n",
       "      <td>High: 67 °F</td>\n",
       "      <td>Friday: Sunny, with a high near 67. Calm wind ...</td>\n",
       "      <td>67</td>\n",
       "    </tr>\n",
       "    <tr>\n",
       "      <th>2</th>\n",
       "      <td>FridayNight</td>\n",
       "      <td>Mostly Clear</td>\n",
       "      <td>Low: 51 °F</td>\n",
       "      <td>Friday Night: Mostly clear, with a low around ...</td>\n",
       "      <td>51</td>\n",
       "    </tr>\n",
       "    <tr>\n",
       "      <th>3</th>\n",
       "      <td>VeteransDay</td>\n",
       "      <td>Mostly Sunny</td>\n",
       "      <td>High: 68 °F</td>\n",
       "      <td>Veterans Day: Mostly sunny, with a high near 6...</td>\n",
       "      <td>68</td>\n",
       "    </tr>\n",
       "    <tr>\n",
       "      <th>4</th>\n",
       "      <td>SaturdayNight</td>\n",
       "      <td>Partly Cloudy</td>\n",
       "      <td>Low: 50 °F</td>\n",
       "      <td>Saturday Night: Partly cloudy, with a low arou...</td>\n",
       "      <td>50</td>\n",
       "    </tr>\n",
       "    <tr>\n",
       "      <th>5</th>\n",
       "      <td>Sunday</td>\n",
       "      <td>Mostly Sunny</td>\n",
       "      <td>High: 68 °F</td>\n",
       "      <td>Sunday: Mostly sunny, with a high near 68.</td>\n",
       "      <td>68</td>\n",
       "    </tr>\n",
       "    <tr>\n",
       "      <th>6</th>\n",
       "      <td>SundayNight</td>\n",
       "      <td>Partly Cloudy</td>\n",
       "      <td>Low: 52 °F</td>\n",
       "      <td>Sunday Night: Partly cloudy, with a low around...</td>\n",
       "      <td>52</td>\n",
       "    </tr>\n",
       "    <tr>\n",
       "      <th>7</th>\n",
       "      <td>Monday</td>\n",
       "      <td>Slight ChanceRain</td>\n",
       "      <td>High: 66 °F</td>\n",
       "      <td>Monday: A slight chance of rain after 10am.  P...</td>\n",
       "      <td>66</td>\n",
       "    </tr>\n",
       "    <tr>\n",
       "      <th>8</th>\n",
       "      <td>MondayNight</td>\n",
       "      <td>Chance Rain</td>\n",
       "      <td>Low: 53 °F</td>\n",
       "      <td>Monday Night: A chance of rain.  Mostly cloudy...</td>\n",
       "      <td>53</td>\n",
       "    </tr>\n",
       "  </tbody>\n",
       "</table>\n",
       "</div>"
      ],
      "text/plain": [
       "          period         short_desc         temp   \n",
       "0      Overnight      Mostly Cloudy   Low: 50 °F  \\\n",
       "1         Friday              Sunny  High: 67 °F   \n",
       "2    FridayNight       Mostly Clear   Low: 51 °F   \n",
       "3    VeteransDay       Mostly Sunny  High: 68 °F   \n",
       "4  SaturdayNight      Partly Cloudy   Low: 50 °F   \n",
       "5         Sunday       Mostly Sunny  High: 68 °F   \n",
       "6    SundayNight      Partly Cloudy   Low: 52 °F   \n",
       "7         Monday  Slight ChanceRain  High: 66 °F   \n",
       "8    MondayNight        Chance Rain   Low: 53 °F   \n",
       "\n",
       "                                                desc  temp_num  \n",
       "0  Overnight: Mostly cloudy, with a low around 50...        50  \n",
       "1  Friday: Sunny, with a high near 67. Calm wind ...        67  \n",
       "2  Friday Night: Mostly clear, with a low around ...        51  \n",
       "3  Veterans Day: Mostly sunny, with a high near 6...        68  \n",
       "4  Saturday Night: Partly cloudy, with a low arou...        50  \n",
       "5         Sunday: Mostly sunny, with a high near 68.        68  \n",
       "6  Sunday Night: Partly cloudy, with a low around...        52  \n",
       "7  Monday: A slight chance of rain after 10am.  P...        66  \n",
       "8  Monday Night: A chance of rain.  Mostly cloudy...        53  "
      ]
     },
     "metadata": {},
     "output_type": "display_data"
    }
   ],
   "source": [
    "temp_nums = weather['temp'].str.extract(\"(\\d+)\", expand=False)\n",
    "weather['temp_num'] = temp_nums.astype('int')\n",
    "\n",
    "display(weather)"
   ]
  },
  {
   "cell_type": "code",
   "execution_count": 13,
   "metadata": {
    "ExecuteTime": {
     "end_time": "2020-05-20T11:17:34.931055Z",
     "start_time": "2020-05-20T11:17:34.879766Z"
    }
   },
   "outputs": [
    {
     "name": "stdout",
     "output_type": "stream",
     "text": [
      "<class 'pandas.core.frame.DataFrame'>\n",
      "RangeIndex: 9 entries, 0 to 8\n",
      "Data columns (total 5 columns):\n",
      " #   Column      Non-Null Count  Dtype \n",
      "---  ------      --------------  ----- \n",
      " 0   period      9 non-null      object\n",
      " 1   short_desc  9 non-null      object\n",
      " 2   temp        9 non-null      object\n",
      " 3   desc        9 non-null      object\n",
      " 4   temp_num    9 non-null      int64 \n",
      "dtypes: int64(1), object(4)\n",
      "memory usage: 488.0+ bytes\n"
     ]
    }
   ],
   "source": [
    "weather.info(verbose=True)"
   ]
  },
  {
   "cell_type": "code",
   "execution_count": 14,
   "metadata": {
    "ExecuteTime": {
     "end_time": "2020-05-20T11:18:02.951204Z",
     "start_time": "2020-05-20T11:18:02.939979Z"
    }
   },
   "outputs": [
    {
     "data": {
      "text/plain": [
       "58.333333333333336"
      ]
     },
     "execution_count": 14,
     "metadata": {},
     "output_type": "execute_result"
    }
   ],
   "source": [
    "weather[\"temp_num\"].mean()"
   ]
  }
 ],
 "metadata": {
  "kernelspec": {
   "display_name": "Python 3 (ipykernel)",
   "language": "python",
   "name": "python3"
  },
  "language_info": {
   "codemirror_mode": {
    "name": "ipython",
    "version": 3
   },
   "file_extension": ".py",
   "mimetype": "text/x-python",
   "name": "python",
   "nbconvert_exporter": "python",
   "pygments_lexer": "ipython3",
   "version": "3.10.10"
  },
  "toc": {
   "base_numbering": 1,
   "nav_menu": {},
   "number_sections": true,
   "sideBar": true,
   "skip_h1_title": false,
   "title_cell": "Table of Contents",
   "title_sidebar": "Contents",
   "toc_cell": false,
   "toc_position": {},
   "toc_section_display": true,
   "toc_window_display": false
  }
 },
 "nbformat": 4,
 "nbformat_minor": 4
}
